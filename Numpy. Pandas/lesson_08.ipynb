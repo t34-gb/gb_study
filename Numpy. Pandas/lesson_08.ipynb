{
 "cells": [
  {
   "cell_type": "markdown",
   "id": "8875fbd5",
   "metadata": {},
   "source": [
    "## Тема “Обучение без учителя”<a class='anckor' id='start'>\n",
    "   - [Задание № 1](#task1);\n",
    "   - [Задание № 2](#task2);\n",
    "   - [Задание № 3](#task3)."
   ]
  },
  {
   "cell_type": "markdown",
   "id": "613d9701",
   "metadata": {},
   "source": [
    "### Задание № 1<a class='anckor' id='task1'>\n",
    "    \n",
    "   - Импортируйте библиотеки pandas, numpy и matplotlib.\n",
    "   - Загрузите \"Boston House Prices dataset\" из встроенных наборов данных библиотеки sklearn.\n",
    "   - Создайте датафреймы X и y из этих данных.\n",
    "   - Разбейте эти датафреймы на тренировочные (X_train, y_train) и тестовые (X_test, y_test) с помощью функции train_test_split так, чтобы размер тестовой выборки составлял 20% от всех данных, при этом аргумент random_state должен быть равен 42.\n",
    "   - Масштабируйте данные с помощью StandardScaler.\n",
    "   - Постройте модель TSNE на тренировочный данных с параметрами:\n",
    "       * n_components=2, learning_rate=250, random_state=42.\n",
    "   - Постройте диаграмму рассеяния на этих данных."
   ]
  },
  {
   "cell_type": "code",
   "execution_count": 1,
   "id": "cc3167b7",
   "metadata": {},
   "outputs": [],
   "source": [
    "import pandas as pd\n",
    "import numpy as np\n",
    "from matplotlib import pyplot as plt\n",
    "\n",
    "%matplotlib inline"
   ]
  },
  {
   "cell_type": "code",
   "execution_count": 14,
   "id": "856f81c4",
   "metadata": {},
   "outputs": [],
   "source": [
    "# Функция для автоматического уменьшения объёма памати за счёт оптимизации количественных переменных датасета\n",
    "def reduce_mem_usage(df):\n",
    "    \n",
    "    # Определение количество памяти занятой исходным датасетом\n",
    "    start_mem = df.memory_usage().sum() / 1024**2\n",
    "    print('Исходным датафреймом использована память в размере: {:.2f} MB'.format(start_mem))\n",
    "    \n",
    "    # итерация по признакам (столбцам) датасета\n",
    "    for col in df.columns:\n",
    "        col_type = df[col].dtype\n",
    "        \n",
    "        # для количественной переменной определяем min и max значения\n",
    "        if col_type != object:\n",
    "            c_min = df[col].min()\n",
    "            c_max = df[col].max()\n",
    "            # для целочисленной переменной определяем оптимальный тип и меняем на него у признака\n",
    "            if str(col_type)[:3] == 'int':\n",
    "                if c_min > np.iinfo(np.int8).min and c_max < np.iinfo(np.int8).max:\n",
    "                    df[col] = df[col].astype(np.int8)  # от -128 до 127 (1 байт)\n",
    "                elif c_min > np.iinfo(np.int16).min and c_max < np.iinfo(np.int16).max:\n",
    "                    df[col] = df[col].astype(np.int16)  # от -32768 до 32767 (2 байта)\n",
    "                elif c_min > np.iinfo(np.int32).min and c_max < np.iinfo(np.int32).max:\n",
    "                    df[col] = df[col].astype(np.int32)  # 4 байта\n",
    "                elif c_min > np.iinfo(np.int64).min and c_max < np.iinfo(np.int64).max:\n",
    "                    df[col] = df[col].astype(np.int64)  # 8 байтов\n",
    "                    \n",
    "            # для вещественной переменной определяем оптимальный тип и меняем на него у признака\n",
    "            else:\n",
    "                if c_min > np.finfo(np.float32).min and c_max < np.finfo(np.float32).max:\n",
    "                    df[col] = df[col].astype(np.float32)  # 4 байта\n",
    "                else:\n",
    "                    df[col] = df[col].astype(np.float64)  # 8 байтов\n",
    "        else:\n",
    "            df[col] = df[col].astype('category')\n",
    "\n",
    "    # Определение количество памяти занятой оптимизированным датасетом\n",
    "    end_mem = df.memory_usage().sum() / 1024**2\n",
    "    print('Оптимизированным датафреймом использована память в размере: {:.2f} MB'.format(end_mem))\n",
    "    print('Использованная датафреймом память уменьшилась на {:.1f}%'.format(100 * (start_mem - end_mem) / start_mem))\n",
    "    \n",
    "    return df"
   ]
  },
  {
   "cell_type": "markdown",
   "id": "211ee662",
   "metadata": {},
   "source": [
    "#### Загрузка и изучение данных из набора \"Boston House Prices dataset\""
   ]
  },
  {
   "cell_type": "code",
   "execution_count": 2,
   "id": "62149153",
   "metadata": {},
   "outputs": [
    {
     "data": {
      "text/plain": [
       "sklearn.utils.Bunch"
      ]
     },
     "execution_count": 2,
     "metadata": {},
     "output_type": "execute_result"
    }
   ],
   "source": [
    "from sklearn.datasets import load_boston\n",
    "\n",
    "dataset_ = load_boston()\n",
    "type(dataset_)"
   ]
  },
  {
   "cell_type": "code",
   "execution_count": 3,
   "id": "7718cada",
   "metadata": {},
   "outputs": [
    {
     "data": {
      "text/plain": [
       "dict_keys(['data', 'target', 'feature_names', 'DESCR', 'filename'])"
      ]
     },
     "execution_count": 3,
     "metadata": {},
     "output_type": "execute_result"
    }
   ],
   "source": [
    "dataset_.keys()"
   ]
  },
  {
   "cell_type": "code",
   "execution_count": 4,
   "id": "85bd7492",
   "metadata": {},
   "outputs": [
    {
     "data": {
      "text/plain": [
       "array([[6.3200e-03, 1.8000e+01, 2.3100e+00, 0.0000e+00, 5.3800e-01,\n",
       "        6.5750e+00, 6.5200e+01, 4.0900e+00, 1.0000e+00, 2.9600e+02,\n",
       "        1.5300e+01, 3.9690e+02, 4.9800e+00],\n",
       "       [2.7310e-02, 0.0000e+00, 7.0700e+00, 0.0000e+00, 4.6900e-01,\n",
       "        6.4210e+00, 7.8900e+01, 4.9671e+00, 2.0000e+00, 2.4200e+02,\n",
       "        1.7800e+01, 3.9690e+02, 9.1400e+00],\n",
       "       [2.7290e-02, 0.0000e+00, 7.0700e+00, 0.0000e+00, 4.6900e-01,\n",
       "        7.1850e+00, 6.1100e+01, 4.9671e+00, 2.0000e+00, 2.4200e+02,\n",
       "        1.7800e+01, 3.9283e+02, 4.0300e+00],\n",
       "       [3.2370e-02, 0.0000e+00, 2.1800e+00, 0.0000e+00, 4.5800e-01,\n",
       "        6.9980e+00, 4.5800e+01, 6.0622e+00, 3.0000e+00, 2.2200e+02,\n",
       "        1.8700e+01, 3.9463e+02, 2.9400e+00],\n",
       "       [6.9050e-02, 0.0000e+00, 2.1800e+00, 0.0000e+00, 4.5800e-01,\n",
       "        7.1470e+00, 5.4200e+01, 6.0622e+00, 3.0000e+00, 2.2200e+02,\n",
       "        1.8700e+01, 3.9690e+02, 5.3300e+00]])"
      ]
     },
     "execution_count": 4,
     "metadata": {},
     "output_type": "execute_result"
    }
   ],
   "source": [
    "dataset_['data'][:5]"
   ]
  },
  {
   "cell_type": "code",
   "execution_count": 5,
   "id": "76794b85",
   "metadata": {},
   "outputs": [
    {
     "data": {
      "text/plain": [
       "(506, 13)"
      ]
     },
     "execution_count": 5,
     "metadata": {},
     "output_type": "execute_result"
    }
   ],
   "source": [
    "dataset_['data'].shape"
   ]
  },
  {
   "cell_type": "code",
   "execution_count": 6,
   "id": "81e3ba3b",
   "metadata": {},
   "outputs": [
    {
     "data": {
      "text/plain": [
       "array(['CRIM', 'ZN', 'INDUS', 'CHAS', 'NOX', 'RM', 'AGE', 'DIS', 'RAD',\n",
       "       'TAX', 'PTRATIO', 'B', 'LSTAT'], dtype='<U7')"
      ]
     },
     "execution_count": 6,
     "metadata": {},
     "output_type": "execute_result"
    }
   ],
   "source": [
    "dataset_['feature_names']"
   ]
  },
  {
   "cell_type": "code",
   "execution_count": 7,
   "id": "bb34abb7",
   "metadata": {},
   "outputs": [
    {
     "data": {
      "text/plain": [
       "(13,)"
      ]
     },
     "execution_count": 7,
     "metadata": {},
     "output_type": "execute_result"
    }
   ],
   "source": [
    "dataset_['feature_names'].shape"
   ]
  },
  {
   "cell_type": "code",
   "execution_count": 8,
   "id": "1c4dd08e",
   "metadata": {},
   "outputs": [
    {
     "name": "stdout",
     "output_type": "stream",
     "text": [
      ".. _boston_dataset:\n",
      "\n",
      "Boston house prices dataset\n",
      "---------------------------\n",
      "\n",
      "**Data Set Characteristics:**  \n",
      "\n",
      "    :Number of Instances: 506 \n",
      "\n",
      "    :Number of Attributes: 13 numeric/categorical predictive. Median Value (attribute 14) is usually the target.\n",
      "\n",
      "    :Attribute Information (in order):\n",
      "        - CRIM     per capita crime rate by town\n",
      "        - ZN       proportion of residential land zoned for lots over 25,000 sq.ft.\n",
      "        - INDUS    proportion of non-retail business acres per town\n",
      "        - CHAS     Charles River dummy variable (= 1 if tract bounds river; 0 otherwise)\n",
      "        - NOX      nitric oxides concentration (parts per 10 million)\n",
      "        - RM       average number of rooms per dwelling\n",
      "        - AGE      proportion of owner-occupied units built prior to 1940\n",
      "        - DIS      weighted distances to five Boston employment centres\n",
      "        - RAD      index of accessibility to radial highways\n",
      "        - TAX      full-value property-tax rate per $10,000\n",
      "        - PTRATIO  pupil-teacher ratio by town\n",
      "        - B        1000(Bk - 0.63)^2 where Bk is the proportion of black people by town\n",
      "        - LSTAT    % lower status of the population\n",
      "        - MEDV     Median value of owner-occupied homes in $1000's\n",
      "\n",
      "    :Missing Attribute Values: None\n",
      "\n",
      "    :Creator: Harrison, D. and Rubinfeld, D.L.\n",
      "\n",
      "This is a copy of UCI ML housing dataset.\n",
      "https://archive.ics.uci.edu/ml/machine-learning-databases/housing/\n",
      "\n",
      "\n",
      "This dataset was taken from the StatLib library which is maintained at Carnegie Mellon University.\n",
      "\n",
      "The Boston house-price data of Harrison, D. and Rubinfeld, D.L. 'Hedonic\n",
      "prices and the demand for clean air', J. Environ. Economics & Management,\n",
      "vol.5, 81-102, 1978.   Used in Belsley, Kuh & Welsch, 'Regression diagnostics\n",
      "...', Wiley, 1980.   N.B. Various transformations are used in the table on\n",
      "pages 244-261 of the latter.\n",
      "\n",
      "The Boston house-price data has been used in many machine learning papers that address regression\n",
      "problems.   \n",
      "     \n",
      ".. topic:: References\n",
      "\n",
      "   - Belsley, Kuh & Welsch, 'Regression diagnostics: Identifying Influential Data and Sources of Collinearity', Wiley, 1980. 244-261.\n",
      "   - Quinlan,R. (1993). Combining Instance-Based and Model-Based Learning. In Proceedings on the Tenth International Conference of Machine Learning, 236-243, University of Massachusetts, Amherst. Morgan Kaufmann.\n",
      "\n"
     ]
    }
   ],
   "source": [
    "print(dataset_['DESCR'])"
   ]
  },
  {
   "cell_type": "code",
   "execution_count": 9,
   "id": "61a20766",
   "metadata": {},
   "outputs": [
    {
     "data": {
      "text/plain": [
       "array([24. , 21.6, 34.7, 33.4, 36.2])"
      ]
     },
     "execution_count": 9,
     "metadata": {},
     "output_type": "execute_result"
    }
   ],
   "source": [
    "dataset_['target'][:5]"
   ]
  },
  {
   "cell_type": "code",
   "execution_count": 10,
   "id": "0ac02405",
   "metadata": {},
   "outputs": [
    {
     "data": {
      "text/plain": [
       "(506,)"
      ]
     },
     "execution_count": 10,
     "metadata": {},
     "output_type": "execute_result"
    }
   ],
   "source": [
    "dataset_['target'].shape"
   ]
  },
  {
   "cell_type": "markdown",
   "id": "a76754a2",
   "metadata": {},
   "source": [
    "#### Создание датафреймов X и y"
   ]
  },
  {
   "cell_type": "code",
   "execution_count": 11,
   "id": "68db8cd5",
   "metadata": {},
   "outputs": [
    {
     "data": {
      "text/html": [
       "<div>\n",
       "<style scoped>\n",
       "    .dataframe tbody tr th:only-of-type {\n",
       "        vertical-align: middle;\n",
       "    }\n",
       "\n",
       "    .dataframe tbody tr th {\n",
       "        vertical-align: top;\n",
       "    }\n",
       "\n",
       "    .dataframe thead th {\n",
       "        text-align: right;\n",
       "    }\n",
       "</style>\n",
       "<table border=\"1\" class=\"dataframe\">\n",
       "  <thead>\n",
       "    <tr style=\"text-align: right;\">\n",
       "      <th></th>\n",
       "      <th>CRIM</th>\n",
       "      <th>ZN</th>\n",
       "      <th>INDUS</th>\n",
       "      <th>CHAS</th>\n",
       "      <th>NOX</th>\n",
       "      <th>RM</th>\n",
       "      <th>AGE</th>\n",
       "      <th>DIS</th>\n",
       "      <th>RAD</th>\n",
       "      <th>TAX</th>\n",
       "      <th>PTRATIO</th>\n",
       "      <th>B</th>\n",
       "      <th>LSTAT</th>\n",
       "    </tr>\n",
       "  </thead>\n",
       "  <tbody>\n",
       "    <tr>\n",
       "      <th>0</th>\n",
       "      <td>0.00632</td>\n",
       "      <td>18.0</td>\n",
       "      <td>2.31</td>\n",
       "      <td>0.0</td>\n",
       "      <td>0.538</td>\n",
       "      <td>6.575</td>\n",
       "      <td>65.2</td>\n",
       "      <td>4.0900</td>\n",
       "      <td>1.0</td>\n",
       "      <td>296.0</td>\n",
       "      <td>15.3</td>\n",
       "      <td>396.90</td>\n",
       "      <td>4.98</td>\n",
       "    </tr>\n",
       "    <tr>\n",
       "      <th>1</th>\n",
       "      <td>0.02731</td>\n",
       "      <td>0.0</td>\n",
       "      <td>7.07</td>\n",
       "      <td>0.0</td>\n",
       "      <td>0.469</td>\n",
       "      <td>6.421</td>\n",
       "      <td>78.9</td>\n",
       "      <td>4.9671</td>\n",
       "      <td>2.0</td>\n",
       "      <td>242.0</td>\n",
       "      <td>17.8</td>\n",
       "      <td>396.90</td>\n",
       "      <td>9.14</td>\n",
       "    </tr>\n",
       "    <tr>\n",
       "      <th>2</th>\n",
       "      <td>0.02729</td>\n",
       "      <td>0.0</td>\n",
       "      <td>7.07</td>\n",
       "      <td>0.0</td>\n",
       "      <td>0.469</td>\n",
       "      <td>7.185</td>\n",
       "      <td>61.1</td>\n",
       "      <td>4.9671</td>\n",
       "      <td>2.0</td>\n",
       "      <td>242.0</td>\n",
       "      <td>17.8</td>\n",
       "      <td>392.83</td>\n",
       "      <td>4.03</td>\n",
       "    </tr>\n",
       "    <tr>\n",
       "      <th>3</th>\n",
       "      <td>0.03237</td>\n",
       "      <td>0.0</td>\n",
       "      <td>2.18</td>\n",
       "      <td>0.0</td>\n",
       "      <td>0.458</td>\n",
       "      <td>6.998</td>\n",
       "      <td>45.8</td>\n",
       "      <td>6.0622</td>\n",
       "      <td>3.0</td>\n",
       "      <td>222.0</td>\n",
       "      <td>18.7</td>\n",
       "      <td>394.63</td>\n",
       "      <td>2.94</td>\n",
       "    </tr>\n",
       "    <tr>\n",
       "      <th>4</th>\n",
       "      <td>0.06905</td>\n",
       "      <td>0.0</td>\n",
       "      <td>2.18</td>\n",
       "      <td>0.0</td>\n",
       "      <td>0.458</td>\n",
       "      <td>7.147</td>\n",
       "      <td>54.2</td>\n",
       "      <td>6.0622</td>\n",
       "      <td>3.0</td>\n",
       "      <td>222.0</td>\n",
       "      <td>18.7</td>\n",
       "      <td>396.90</td>\n",
       "      <td>5.33</td>\n",
       "    </tr>\n",
       "  </tbody>\n",
       "</table>\n",
       "</div>"
      ],
      "text/plain": [
       "      CRIM    ZN  INDUS  CHAS    NOX     RM   AGE     DIS  RAD    TAX  \\\n",
       "0  0.00632  18.0   2.31   0.0  0.538  6.575  65.2  4.0900  1.0  296.0   \n",
       "1  0.02731   0.0   7.07   0.0  0.469  6.421  78.9  4.9671  2.0  242.0   \n",
       "2  0.02729   0.0   7.07   0.0  0.469  7.185  61.1  4.9671  2.0  242.0   \n",
       "3  0.03237   0.0   2.18   0.0  0.458  6.998  45.8  6.0622  3.0  222.0   \n",
       "4  0.06905   0.0   2.18   0.0  0.458  7.147  54.2  6.0622  3.0  222.0   \n",
       "\n",
       "   PTRATIO       B  LSTAT  \n",
       "0     15.3  396.90   4.98  \n",
       "1     17.8  396.90   9.14  \n",
       "2     17.8  392.83   4.03  \n",
       "3     18.7  394.63   2.94  \n",
       "4     18.7  396.90   5.33  "
      ]
     },
     "execution_count": 11,
     "metadata": {},
     "output_type": "execute_result"
    }
   ],
   "source": [
    "X = pd.DataFrame(dataset_['data'], columns=dataset_['feature_names'])\n",
    "X.head()"
   ]
  },
  {
   "cell_type": "code",
   "execution_count": 12,
   "id": "41a7c9fd",
   "metadata": {},
   "outputs": [
    {
     "name": "stdout",
     "output_type": "stream",
     "text": [
      "<class 'pandas.core.frame.DataFrame'>\n",
      "RangeIndex: 506 entries, 0 to 505\n",
      "Data columns (total 13 columns):\n",
      " #   Column   Non-Null Count  Dtype  \n",
      "---  ------   --------------  -----  \n",
      " 0   CRIM     506 non-null    float64\n",
      " 1   ZN       506 non-null    float64\n",
      " 2   INDUS    506 non-null    float64\n",
      " 3   CHAS     506 non-null    float64\n",
      " 4   NOX      506 non-null    float64\n",
      " 5   RM       506 non-null    float64\n",
      " 6   AGE      506 non-null    float64\n",
      " 7   DIS      506 non-null    float64\n",
      " 8   RAD      506 non-null    float64\n",
      " 9   TAX      506 non-null    float64\n",
      " 10  PTRATIO  506 non-null    float64\n",
      " 11  B        506 non-null    float64\n",
      " 12  LSTAT    506 non-null    float64\n",
      "dtypes: float64(13)\n",
      "memory usage: 51.5 KB\n"
     ]
    }
   ],
   "source": [
    "X.info()"
   ]
  },
  {
   "cell_type": "code",
   "execution_count": 15,
   "id": "3a6dcf03",
   "metadata": {},
   "outputs": [
    {
     "name": "stdout",
     "output_type": "stream",
     "text": [
      "Исходным датафреймом использована память в размере: 0.05 MB\n",
      "Оптимизированным датафреймом использована память в размере: 0.03 MB\n",
      "Использованная датафреймом память уменьшилась на 49.9%\n",
      "<class 'pandas.core.frame.DataFrame'>\n",
      "RangeIndex: 506 entries, 0 to 505\n",
      "Data columns (total 13 columns):\n",
      " #   Column   Non-Null Count  Dtype  \n",
      "---  ------   --------------  -----  \n",
      " 0   CRIM     506 non-null    float32\n",
      " 1   ZN       506 non-null    float32\n",
      " 2   INDUS    506 non-null    float32\n",
      " 3   CHAS     506 non-null    float32\n",
      " 4   NOX      506 non-null    float32\n",
      " 5   RM       506 non-null    float32\n",
      " 6   AGE      506 non-null    float32\n",
      " 7   DIS      506 non-null    float32\n",
      " 8   RAD      506 non-null    float32\n",
      " 9   TAX      506 non-null    float32\n",
      " 10  PTRATIO  506 non-null    float32\n",
      " 11  B        506 non-null    float32\n",
      " 12  LSTAT    506 non-null    float32\n",
      "dtypes: float32(13)\n",
      "memory usage: 25.8 KB\n"
     ]
    }
   ],
   "source": [
    "reduce_mem_usage(X)\n",
    "X.info()"
   ]
  },
  {
   "cell_type": "code",
   "execution_count": 16,
   "id": "ffa4455f",
   "metadata": {},
   "outputs": [
    {
     "data": {
      "text/html": [
       "<div>\n",
       "<style scoped>\n",
       "    .dataframe tbody tr th:only-of-type {\n",
       "        vertical-align: middle;\n",
       "    }\n",
       "\n",
       "    .dataframe tbody tr th {\n",
       "        vertical-align: top;\n",
       "    }\n",
       "\n",
       "    .dataframe thead th {\n",
       "        text-align: right;\n",
       "    }\n",
       "</style>\n",
       "<table border=\"1\" class=\"dataframe\">\n",
       "  <thead>\n",
       "    <tr style=\"text-align: right;\">\n",
       "      <th></th>\n",
       "      <th>Price</th>\n",
       "    </tr>\n",
       "  </thead>\n",
       "  <tbody>\n",
       "    <tr>\n",
       "      <th>0</th>\n",
       "      <td>24.0</td>\n",
       "    </tr>\n",
       "    <tr>\n",
       "      <th>1</th>\n",
       "      <td>21.6</td>\n",
       "    </tr>\n",
       "    <tr>\n",
       "      <th>2</th>\n",
       "      <td>34.7</td>\n",
       "    </tr>\n",
       "    <tr>\n",
       "      <th>3</th>\n",
       "      <td>33.4</td>\n",
       "    </tr>\n",
       "    <tr>\n",
       "      <th>4</th>\n",
       "      <td>36.2</td>\n",
       "    </tr>\n",
       "  </tbody>\n",
       "</table>\n",
       "</div>"
      ],
      "text/plain": [
       "   Price\n",
       "0   24.0\n",
       "1   21.6\n",
       "2   34.7\n",
       "3   33.4\n",
       "4   36.2"
      ]
     },
     "execution_count": 16,
     "metadata": {},
     "output_type": "execute_result"
    }
   ],
   "source": [
    "y = pd.DataFrame(dataset_['target'], columns=['Price'])\n",
    "y.head()"
   ]
  },
  {
   "cell_type": "code",
   "execution_count": 17,
   "id": "33f12000",
   "metadata": {},
   "outputs": [
    {
     "name": "stdout",
     "output_type": "stream",
     "text": [
      "<class 'pandas.core.frame.DataFrame'>\n",
      "RangeIndex: 506 entries, 0 to 505\n",
      "Data columns (total 1 columns):\n",
      " #   Column  Non-Null Count  Dtype  \n",
      "---  ------  --------------  -----  \n",
      " 0   Price   506 non-null    float64\n",
      "dtypes: float64(1)\n",
      "memory usage: 4.1 KB\n"
     ]
    }
   ],
   "source": [
    "y.info()"
   ]
  },
  {
   "cell_type": "code",
   "execution_count": 18,
   "id": "d7cdde0b",
   "metadata": {},
   "outputs": [
    {
     "name": "stdout",
     "output_type": "stream",
     "text": [
      "Исходным датафреймом использована память в размере: 0.00 MB\n",
      "Оптимизированным датафреймом использована память в размере: 0.00 MB\n",
      "Использованная датафреймом память уменьшилась на 48.5%\n",
      "<class 'pandas.core.frame.DataFrame'>\n",
      "RangeIndex: 506 entries, 0 to 505\n",
      "Data columns (total 1 columns):\n",
      " #   Column  Non-Null Count  Dtype  \n",
      "---  ------  --------------  -----  \n",
      " 0   Price   506 non-null    float32\n",
      "dtypes: float32(1)\n",
      "memory usage: 2.1 KB\n"
     ]
    }
   ],
   "source": [
    "reduce_mem_usage(y).info()"
   ]
  },
  {
   "cell_type": "markdown",
   "id": "b652aeea",
   "metadata": {},
   "source": [
    "Оба датафрейма оптимизированы и не имеют пропуски в данных.\n",
    "\n",
    "#### Разбиение датафреймов на train и test"
   ]
  },
  {
   "cell_type": "code",
   "execution_count": 19,
   "id": "87e5eddd",
   "metadata": {},
   "outputs": [
    {
     "data": {
      "text/plain": [
       "((404, 13), (404, 1), (102, 13), (102, 1))"
      ]
     },
     "execution_count": 19,
     "metadata": {},
     "output_type": "execute_result"
    }
   ],
   "source": [
    "from sklearn.model_selection import train_test_split\n",
    "\n",
    "X_train, X_test, y_train, y_test = train_test_split(X, y, test_size=0.2, random_state=42)\n",
    "\n",
    "X_train.shape, y_train.shape, X_test.shape, y_test.shape"
   ]
  },
  {
   "cell_type": "markdown",
   "id": "fb14637b",
   "metadata": {},
   "source": [
    "#### Масштабирование данных с помощью StandardScale"
   ]
  },
  {
   "cell_type": "code",
   "execution_count": 20,
   "id": "66b6e91c",
   "metadata": {},
   "outputs": [
    {
     "data": {
      "text/html": [
       "<div>\n",
       "<style scoped>\n",
       "    .dataframe tbody tr th:only-of-type {\n",
       "        vertical-align: middle;\n",
       "    }\n",
       "\n",
       "    .dataframe tbody tr th {\n",
       "        vertical-align: top;\n",
       "    }\n",
       "\n",
       "    .dataframe thead th {\n",
       "        text-align: right;\n",
       "    }\n",
       "</style>\n",
       "<table border=\"1\" class=\"dataframe\">\n",
       "  <thead>\n",
       "    <tr style=\"text-align: right;\">\n",
       "      <th></th>\n",
       "      <th>CRIM</th>\n",
       "      <th>ZN</th>\n",
       "      <th>INDUS</th>\n",
       "      <th>CHAS</th>\n",
       "      <th>NOX</th>\n",
       "      <th>RM</th>\n",
       "      <th>AGE</th>\n",
       "      <th>DIS</th>\n",
       "      <th>RAD</th>\n",
       "      <th>TAX</th>\n",
       "      <th>PTRATIO</th>\n",
       "      <th>B</th>\n",
       "      <th>LSTAT</th>\n",
       "    </tr>\n",
       "  </thead>\n",
       "  <tbody>\n",
       "    <tr>\n",
       "      <th>count</th>\n",
       "      <td>404.000000</td>\n",
       "      <td>404.000000</td>\n",
       "      <td>404.000000</td>\n",
       "      <td>404.000000</td>\n",
       "      <td>404.000000</td>\n",
       "      <td>404.000000</td>\n",
       "      <td>404.000000</td>\n",
       "      <td>404.000000</td>\n",
       "      <td>404.000000</td>\n",
       "      <td>404.000000</td>\n",
       "      <td>404.000000</td>\n",
       "      <td>404.000000</td>\n",
       "      <td>404.000000</td>\n",
       "    </tr>\n",
       "    <tr>\n",
       "      <th>mean</th>\n",
       "      <td>3.609124</td>\n",
       "      <td>11.569307</td>\n",
       "      <td>10.985050</td>\n",
       "      <td>0.071782</td>\n",
       "      <td>0.556484</td>\n",
       "      <td>6.315893</td>\n",
       "      <td>68.556465</td>\n",
       "      <td>3.808196</td>\n",
       "      <td>9.356436</td>\n",
       "      <td>404.032166</td>\n",
       "      <td>18.318344</td>\n",
       "      <td>356.278259</td>\n",
       "      <td>12.457352</td>\n",
       "    </tr>\n",
       "    <tr>\n",
       "      <th>std</th>\n",
       "      <td>8.875057</td>\n",
       "      <td>23.152452</td>\n",
       "      <td>6.894617</td>\n",
       "      <td>0.258446</td>\n",
       "      <td>0.117704</td>\n",
       "      <td>0.709452</td>\n",
       "      <td>27.994925</td>\n",
       "      <td>2.131226</td>\n",
       "      <td>8.589717</td>\n",
       "      <td>166.172516</td>\n",
       "      <td>2.228702</td>\n",
       "      <td>91.566605</td>\n",
       "      <td>7.110379</td>\n",
       "    </tr>\n",
       "    <tr>\n",
       "      <th>min</th>\n",
       "      <td>0.009060</td>\n",
       "      <td>0.000000</td>\n",
       "      <td>0.740000</td>\n",
       "      <td>0.000000</td>\n",
       "      <td>0.385000</td>\n",
       "      <td>3.863000</td>\n",
       "      <td>2.900000</td>\n",
       "      <td>1.129600</td>\n",
       "      <td>1.000000</td>\n",
       "      <td>187.000000</td>\n",
       "      <td>12.600000</td>\n",
       "      <td>0.320000</td>\n",
       "      <td>1.730000</td>\n",
       "    </tr>\n",
       "    <tr>\n",
       "      <th>25%</th>\n",
       "      <td>0.081437</td>\n",
       "      <td>0.000000</td>\n",
       "      <td>5.130000</td>\n",
       "      <td>0.000000</td>\n",
       "      <td>0.452000</td>\n",
       "      <td>5.890500</td>\n",
       "      <td>45.549999</td>\n",
       "      <td>2.087875</td>\n",
       "      <td>4.000000</td>\n",
       "      <td>279.000000</td>\n",
       "      <td>16.799999</td>\n",
       "      <td>375.472488</td>\n",
       "      <td>6.772500</td>\n",
       "    </tr>\n",
       "    <tr>\n",
       "      <th>50%</th>\n",
       "      <td>0.261390</td>\n",
       "      <td>0.000000</td>\n",
       "      <td>8.560000</td>\n",
       "      <td>0.000000</td>\n",
       "      <td>0.538000</td>\n",
       "      <td>6.210000</td>\n",
       "      <td>77.699997</td>\n",
       "      <td>3.175750</td>\n",
       "      <td>5.000000</td>\n",
       "      <td>330.000000</td>\n",
       "      <td>18.700001</td>\n",
       "      <td>391.304993</td>\n",
       "      <td>10.925000</td>\n",
       "    </tr>\n",
       "    <tr>\n",
       "      <th>75%</th>\n",
       "      <td>3.202962</td>\n",
       "      <td>20.000000</td>\n",
       "      <td>18.100000</td>\n",
       "      <td>0.000000</td>\n",
       "      <td>0.631000</td>\n",
       "      <td>6.636750</td>\n",
       "      <td>93.650000</td>\n",
       "      <td>5.400800</td>\n",
       "      <td>12.000000</td>\n",
       "      <td>666.000000</td>\n",
       "      <td>20.200001</td>\n",
       "      <td>395.754997</td>\n",
       "      <td>16.372500</td>\n",
       "    </tr>\n",
       "    <tr>\n",
       "      <th>max</th>\n",
       "      <td>88.976196</td>\n",
       "      <td>100.000000</td>\n",
       "      <td>27.740000</td>\n",
       "      <td>1.000000</td>\n",
       "      <td>0.871000</td>\n",
       "      <td>8.780000</td>\n",
       "      <td>100.000000</td>\n",
       "      <td>12.126500</td>\n",
       "      <td>24.000000</td>\n",
       "      <td>711.000000</td>\n",
       "      <td>22.000000</td>\n",
       "      <td>396.899994</td>\n",
       "      <td>37.970001</td>\n",
       "    </tr>\n",
       "  </tbody>\n",
       "</table>\n",
       "</div>"
      ],
      "text/plain": [
       "             CRIM          ZN       INDUS        CHAS         NOX          RM  \\\n",
       "count  404.000000  404.000000  404.000000  404.000000  404.000000  404.000000   \n",
       "mean     3.609124   11.569307   10.985050    0.071782    0.556484    6.315893   \n",
       "std      8.875057   23.152452    6.894617    0.258446    0.117704    0.709452   \n",
       "min      0.009060    0.000000    0.740000    0.000000    0.385000    3.863000   \n",
       "25%      0.081437    0.000000    5.130000    0.000000    0.452000    5.890500   \n",
       "50%      0.261390    0.000000    8.560000    0.000000    0.538000    6.210000   \n",
       "75%      3.202962   20.000000   18.100000    0.000000    0.631000    6.636750   \n",
       "max     88.976196  100.000000   27.740000    1.000000    0.871000    8.780000   \n",
       "\n",
       "              AGE         DIS         RAD         TAX     PTRATIO           B  \\\n",
       "count  404.000000  404.000000  404.000000  404.000000  404.000000  404.000000   \n",
       "mean    68.556465    3.808196    9.356436  404.032166   18.318344  356.278259   \n",
       "std     27.994925    2.131226    8.589717  166.172516    2.228702   91.566605   \n",
       "min      2.900000    1.129600    1.000000  187.000000   12.600000    0.320000   \n",
       "25%     45.549999    2.087875    4.000000  279.000000   16.799999  375.472488   \n",
       "50%     77.699997    3.175750    5.000000  330.000000   18.700001  391.304993   \n",
       "75%     93.650000    5.400800   12.000000  666.000000   20.200001  395.754997   \n",
       "max    100.000000   12.126500   24.000000  711.000000   22.000000  396.899994   \n",
       "\n",
       "            LSTAT  \n",
       "count  404.000000  \n",
       "mean    12.457352  \n",
       "std      7.110379  \n",
       "min      1.730000  \n",
       "25%      6.772500  \n",
       "50%     10.925000  \n",
       "75%     16.372500  \n",
       "max     37.970001  "
      ]
     },
     "execution_count": 20,
     "metadata": {},
     "output_type": "execute_result"
    }
   ],
   "source": [
    "X_train.describe()"
   ]
  },
  {
   "cell_type": "code",
   "execution_count": 21,
   "id": "054d3880",
   "metadata": {},
   "outputs": [
    {
     "data": {
      "text/html": [
       "<div>\n",
       "<style scoped>\n",
       "    .dataframe tbody tr th:only-of-type {\n",
       "        vertical-align: middle;\n",
       "    }\n",
       "\n",
       "    .dataframe tbody tr th {\n",
       "        vertical-align: top;\n",
       "    }\n",
       "\n",
       "    .dataframe thead th {\n",
       "        text-align: right;\n",
       "    }\n",
       "</style>\n",
       "<table border=\"1\" class=\"dataframe\">\n",
       "  <thead>\n",
       "    <tr style=\"text-align: right;\">\n",
       "      <th></th>\n",
       "      <th>CRIM</th>\n",
       "      <th>ZN</th>\n",
       "      <th>INDUS</th>\n",
       "      <th>CHAS</th>\n",
       "      <th>NOX</th>\n",
       "      <th>RM</th>\n",
       "      <th>AGE</th>\n",
       "      <th>DIS</th>\n",
       "      <th>RAD</th>\n",
       "      <th>TAX</th>\n",
       "      <th>PTRATIO</th>\n",
       "      <th>B</th>\n",
       "      <th>LSTAT</th>\n",
       "    </tr>\n",
       "  </thead>\n",
       "  <tbody>\n",
       "    <tr>\n",
       "      <th>count</th>\n",
       "      <td>4.040000e+02</td>\n",
       "      <td>4.040000e+02</td>\n",
       "      <td>4.040000e+02</td>\n",
       "      <td>4.040000e+02</td>\n",
       "      <td>4.040000e+02</td>\n",
       "      <td>4.040000e+02</td>\n",
       "      <td>4.040000e+02</td>\n",
       "      <td>4.040000e+02</td>\n",
       "      <td>4.040000e+02</td>\n",
       "      <td>4.040000e+02</td>\n",
       "      <td>4.040000e+02</td>\n",
       "      <td>4.040000e+02</td>\n",
       "      <td>4.040000e+02</td>\n",
       "    </tr>\n",
       "    <tr>\n",
       "      <th>mean</th>\n",
       "      <td>-2.950725e-09</td>\n",
       "      <td>8.852175e-10</td>\n",
       "      <td>-1.954855e-08</td>\n",
       "      <td>1.460609e-08</td>\n",
       "      <td>-3.555624e-08</td>\n",
       "      <td>-1.088080e-08</td>\n",
       "      <td>-1.770435e-09</td>\n",
       "      <td>-4.721160e-09</td>\n",
       "      <td>4.868696e-09</td>\n",
       "      <td>1.008779e-08</td>\n",
       "      <td>1.976986e-08</td>\n",
       "      <td>1.357334e-08</td>\n",
       "      <td>-1.143406e-08</td>\n",
       "    </tr>\n",
       "    <tr>\n",
       "      <th>std</th>\n",
       "      <td>1.001240e+00</td>\n",
       "      <td>1.001238e+00</td>\n",
       "      <td>1.001240e+00</td>\n",
       "      <td>1.001239e+00</td>\n",
       "      <td>1.001240e+00</td>\n",
       "      <td>1.001240e+00</td>\n",
       "      <td>1.001240e+00</td>\n",
       "      <td>1.001240e+00</td>\n",
       "      <td>1.001240e+00</td>\n",
       "      <td>1.001240e+00</td>\n",
       "      <td>1.001240e+00</td>\n",
       "      <td>1.001240e+00</td>\n",
       "      <td>1.001240e+00</td>\n",
       "    </tr>\n",
       "    <tr>\n",
       "      <th>min</th>\n",
       "      <td>-4.061414e-01</td>\n",
       "      <td>-5.003201e-01</td>\n",
       "      <td>-1.487791e+00</td>\n",
       "      <td>-2.780887e-01</td>\n",
       "      <td>-1.458711e+00</td>\n",
       "      <td>-3.461733e+00</td>\n",
       "      <td>-2.348206e+00</td>\n",
       "      <td>-1.258391e+00</td>\n",
       "      <td>-9.740476e-01</td>\n",
       "      <td>-1.307684e+00</td>\n",
       "      <td>-2.568943e+00</td>\n",
       "      <td>-3.892249e+00</td>\n",
       "      <td>-1.510559e+00</td>\n",
       "    </tr>\n",
       "    <tr>\n",
       "      <th>25%</th>\n",
       "      <td>-3.979761e-01</td>\n",
       "      <td>-5.003201e-01</td>\n",
       "      <td>-8.502733e-01</td>\n",
       "      <td>-2.780887e-01</td>\n",
       "      <td>-8.887828e-01</td>\n",
       "      <td>-6.003491e-01</td>\n",
       "      <td>-8.228265e-01</td>\n",
       "      <td>-8.081981e-01</td>\n",
       "      <td>-6.243599e-01</td>\n",
       "      <td>-7.533562e-01</td>\n",
       "      <td>-6.821015e-01</td>\n",
       "      <td>2.098796e-01</td>\n",
       "      <td>-8.005057e-01</td>\n",
       "    </tr>\n",
       "    <tr>\n",
       "      <th>50%</th>\n",
       "      <td>-3.776748e-01</td>\n",
       "      <td>-5.003201e-01</td>\n",
       "      <td>-3.521669e-01</td>\n",
       "      <td>-2.780887e-01</td>\n",
       "      <td>-1.572335e-01</td>\n",
       "      <td>-1.494427e-01</td>\n",
       "      <td>3.270200e-01</td>\n",
       "      <td>-2.971197e-01</td>\n",
       "      <td>-5.077973e-01</td>\n",
       "      <td>-4.460660e-01</td>\n",
       "      <td>1.714707e-01</td>\n",
       "      <td>3.830011e-01</td>\n",
       "      <td>-2.157762e-01</td>\n",
       "    </tr>\n",
       "    <tr>\n",
       "      <th>75%</th>\n",
       "      <td>-4.582120e-02</td>\n",
       "      <td>3.645893e-01</td>\n",
       "      <td>1.033237e+00</td>\n",
       "      <td>-2.780887e-01</td>\n",
       "      <td>6.338605e-01</td>\n",
       "      <td>4.528243e-01</td>\n",
       "      <td>8.974727e-01</td>\n",
       "      <td>7.481982e-01</td>\n",
       "      <td>3.081407e-01</td>\n",
       "      <td>1.578434e+00</td>\n",
       "      <td>8.453430e-01</td>\n",
       "      <td>4.316600e-01</td>\n",
       "      <td>5.513071e-01</td>\n",
       "    </tr>\n",
       "    <tr>\n",
       "      <th>max</th>\n",
       "      <td>9.630689e+00</td>\n",
       "      <td>3.824227e+00</td>\n",
       "      <td>2.433162e+00</td>\n",
       "      <td>3.595975e+00</td>\n",
       "      <td>2.675394e+00</td>\n",
       "      <td>3.477564e+00</td>\n",
       "      <td>1.124581e+00</td>\n",
       "      <td>3.907900e+00</td>\n",
       "      <td>1.706891e+00</td>\n",
       "      <td>1.849573e+00</td>\n",
       "      <td>1.653989e+00</td>\n",
       "      <td>4.441800e-01</td>\n",
       "      <td>3.592534e+00</td>\n",
       "    </tr>\n",
       "  </tbody>\n",
       "</table>\n",
       "</div>"
      ],
      "text/plain": [
       "               CRIM            ZN         INDUS          CHAS           NOX  \\\n",
       "count  4.040000e+02  4.040000e+02  4.040000e+02  4.040000e+02  4.040000e+02   \n",
       "mean  -2.950725e-09  8.852175e-10 -1.954855e-08  1.460609e-08 -3.555624e-08   \n",
       "std    1.001240e+00  1.001238e+00  1.001240e+00  1.001239e+00  1.001240e+00   \n",
       "min   -4.061414e-01 -5.003201e-01 -1.487791e+00 -2.780887e-01 -1.458711e+00   \n",
       "25%   -3.979761e-01 -5.003201e-01 -8.502733e-01 -2.780887e-01 -8.887828e-01   \n",
       "50%   -3.776748e-01 -5.003201e-01 -3.521669e-01 -2.780887e-01 -1.572335e-01   \n",
       "75%   -4.582120e-02  3.645893e-01  1.033237e+00 -2.780887e-01  6.338605e-01   \n",
       "max    9.630689e+00  3.824227e+00  2.433162e+00  3.595975e+00  2.675394e+00   \n",
       "\n",
       "                 RM           AGE           DIS           RAD           TAX  \\\n",
       "count  4.040000e+02  4.040000e+02  4.040000e+02  4.040000e+02  4.040000e+02   \n",
       "mean  -1.088080e-08 -1.770435e-09 -4.721160e-09  4.868696e-09  1.008779e-08   \n",
       "std    1.001240e+00  1.001240e+00  1.001240e+00  1.001240e+00  1.001240e+00   \n",
       "min   -3.461733e+00 -2.348206e+00 -1.258391e+00 -9.740476e-01 -1.307684e+00   \n",
       "25%   -6.003491e-01 -8.228265e-01 -8.081981e-01 -6.243599e-01 -7.533562e-01   \n",
       "50%   -1.494427e-01  3.270200e-01 -2.971197e-01 -5.077973e-01 -4.460660e-01   \n",
       "75%    4.528243e-01  8.974727e-01  7.481982e-01  3.081407e-01  1.578434e+00   \n",
       "max    3.477564e+00  1.124581e+00  3.907900e+00  1.706891e+00  1.849573e+00   \n",
       "\n",
       "            PTRATIO             B         LSTAT  \n",
       "count  4.040000e+02  4.040000e+02  4.040000e+02  \n",
       "mean   1.976986e-08  1.357334e-08 -1.143406e-08  \n",
       "std    1.001240e+00  1.001240e+00  1.001240e+00  \n",
       "min   -2.568943e+00 -3.892249e+00 -1.510559e+00  \n",
       "25%   -6.821015e-01  2.098796e-01 -8.005057e-01  \n",
       "50%    1.714707e-01  3.830011e-01 -2.157762e-01  \n",
       "75%    8.453430e-01  4.316600e-01  5.513071e-01  \n",
       "max    1.653989e+00  4.441800e-01  3.592534e+00  "
      ]
     },
     "execution_count": 21,
     "metadata": {},
     "output_type": "execute_result"
    }
   ],
   "source": [
    "from sklearn.preprocessing import StandardScaler\n",
    "\n",
    "scaler = StandardScaler()\n",
    "\n",
    "X_train_scaled = pd.DataFrame(scaler.fit_transform(X_train), columns=X_train.columns)\n",
    "X_train_scaled.describe()"
   ]
  },
  {
   "cell_type": "code",
   "execution_count": 22,
   "id": "c2c5791e",
   "metadata": {},
   "outputs": [
    {
     "data": {
      "text/html": [
       "<div>\n",
       "<style scoped>\n",
       "    .dataframe tbody tr th:only-of-type {\n",
       "        vertical-align: middle;\n",
       "    }\n",
       "\n",
       "    .dataframe tbody tr th {\n",
       "        vertical-align: top;\n",
       "    }\n",
       "\n",
       "    .dataframe thead th {\n",
       "        text-align: right;\n",
       "    }\n",
       "</style>\n",
       "<table border=\"1\" class=\"dataframe\">\n",
       "  <thead>\n",
       "    <tr style=\"text-align: right;\">\n",
       "      <th></th>\n",
       "      <th>CRIM</th>\n",
       "      <th>ZN</th>\n",
       "      <th>INDUS</th>\n",
       "      <th>CHAS</th>\n",
       "      <th>NOX</th>\n",
       "      <th>RM</th>\n",
       "      <th>AGE</th>\n",
       "      <th>DIS</th>\n",
       "      <th>RAD</th>\n",
       "      <th>TAX</th>\n",
       "      <th>PTRATIO</th>\n",
       "      <th>B</th>\n",
       "      <th>LSTAT</th>\n",
       "    </tr>\n",
       "  </thead>\n",
       "  <tbody>\n",
       "    <tr>\n",
       "      <th>count</th>\n",
       "      <td>1.020000e+02</td>\n",
       "      <td>1.020000e+02</td>\n",
       "      <td>1.020000e+02</td>\n",
       "      <td>102.000000</td>\n",
       "      <td>1.020000e+02</td>\n",
       "      <td>1.020000e+02</td>\n",
       "      <td>1.020000e+02</td>\n",
       "      <td>1.020000e+02</td>\n",
       "      <td>1.020000e+02</td>\n",
       "      <td>1.020000e+02</td>\n",
       "      <td>1.020000e+02</td>\n",
       "      <td>1.020000e+02</td>\n",
       "      <td>1.020000e+02</td>\n",
       "    </tr>\n",
       "    <tr>\n",
       "      <th>mean</th>\n",
       "      <td>1.110283e-08</td>\n",
       "      <td>-3.915207e-08</td>\n",
       "      <td>1.606988e-09</td>\n",
       "      <td>0.000000</td>\n",
       "      <td>2.804924e-08</td>\n",
       "      <td>5.697503e-09</td>\n",
       "      <td>-1.402462e-08</td>\n",
       "      <td>-6.720132e-09</td>\n",
       "      <td>-5.843593e-08</td>\n",
       "      <td>1.373244e-08</td>\n",
       "      <td>-2.045257e-08</td>\n",
       "      <td>4.499566e-08</td>\n",
       "      <td>-1.168719e-09</td>\n",
       "    </tr>\n",
       "    <tr>\n",
       "      <th>std</th>\n",
       "      <td>1.004938e+00</td>\n",
       "      <td>1.004938e+00</td>\n",
       "      <td>1.004938e+00</td>\n",
       "      <td>1.004938</td>\n",
       "      <td>1.004938e+00</td>\n",
       "      <td>1.004938e+00</td>\n",
       "      <td>1.004938e+00</td>\n",
       "      <td>1.004938e+00</td>\n",
       "      <td>1.004938e+00</td>\n",
       "      <td>1.004938e+00</td>\n",
       "      <td>1.004938e+00</td>\n",
       "      <td>1.004938e+00</td>\n",
       "      <td>1.004938e+00</td>\n",
       "    </tr>\n",
       "    <tr>\n",
       "      <th>min</th>\n",
       "      <td>-4.883000e-01</td>\n",
       "      <td>-4.401863e-01</td>\n",
       "      <td>-1.685877e+00</td>\n",
       "      <td>-0.250000</td>\n",
       "      <td>-1.439907e+00</td>\n",
       "      <td>-3.935782e+00</td>\n",
       "      <td>-2.172189e+00</td>\n",
       "      <td>-1.286366e+00</td>\n",
       "      <td>-1.021593e+00</td>\n",
       "      <td>-1.341478e+00</td>\n",
       "      <td>-3.348173e+00</td>\n",
       "      <td>-3.897728e+00</td>\n",
       "      <td>-1.463204e+00</td>\n",
       "    </tr>\n",
       "    <tr>\n",
       "      <th>25%</th>\n",
       "      <td>-4.773815e-01</td>\n",
       "      <td>-4.401863e-01</td>\n",
       "      <td>-8.423963e-01</td>\n",
       "      <td>-0.250000</td>\n",
       "      <td>-9.194047e-01</td>\n",
       "      <td>-4.399024e-01</td>\n",
       "      <td>-8.643128e-01</td>\n",
       "      <td>-7.391787e-01</td>\n",
       "      <td>-6.925324e-01</td>\n",
       "      <td>-8.105884e-01</td>\n",
       "      <td>-3.343252e-01</td>\n",
       "      <td>1.860242e-01</td>\n",
       "      <td>-7.963289e-01</td>\n",
       "    </tr>\n",
       "    <tr>\n",
       "      <th>50%</th>\n",
       "      <td>-4.608763e-01</td>\n",
       "      <td>-4.401863e-01</td>\n",
       "      <td>-1.715730e-01</td>\n",
       "      <td>-0.250000</td>\n",
       "      <td>-1.444343e-01</td>\n",
       "      <td>1.463370e-02</td>\n",
       "      <td>2.105111e-01</td>\n",
       "      <td>-1.946900e-01</td>\n",
       "      <td>-5.828456e-01</td>\n",
       "      <td>-4.524150e-01</td>\n",
       "      <td>1.121714e-01</td>\n",
       "      <td>3.765528e-01</td>\n",
       "      <td>-1.516487e-01</td>\n",
       "    </tr>\n",
       "    <tr>\n",
       "      <th>75%</th>\n",
       "      <td>1.201040e-01</td>\n",
       "      <td>-4.401863e-01</td>\n",
       "      <td>9.510749e-01</td>\n",
       "      <td>-0.250000</td>\n",
       "      <td>6.837432e-01</td>\n",
       "      <td>4.820380e-01</td>\n",
       "      <td>9.244516e-01</td>\n",
       "      <td>5.107163e-01</td>\n",
       "      <td>1.501204e+00</td>\n",
       "      <td>1.365351e+00</td>\n",
       "      <td>6.702914e-01</td>\n",
       "      <td>4.286058e-01</td>\n",
       "      <td>6.366020e-01</td>\n",
       "    </tr>\n",
       "    <tr>\n",
       "      <th>max</th>\n",
       "      <td>5.673641e+00</td>\n",
       "      <td>3.523945e+00</td>\n",
       "      <td>2.392130e+00</td>\n",
       "      <td>4.000000</td>\n",
       "      <td>2.992461e+00</td>\n",
       "      <td>2.835712e+00</td>\n",
       "      <td>1.090545e+00</td>\n",
       "      <td>3.482165e+00</td>\n",
       "      <td>1.501204e+00</td>\n",
       "      <td>1.620178e+00</td>\n",
       "      <td>1.674907e+00</td>\n",
       "      <td>4.286058e-01</td>\n",
       "      <td>3.266994e+00</td>\n",
       "    </tr>\n",
       "  </tbody>\n",
       "</table>\n",
       "</div>"
      ],
      "text/plain": [
       "               CRIM            ZN         INDUS        CHAS           NOX  \\\n",
       "count  1.020000e+02  1.020000e+02  1.020000e+02  102.000000  1.020000e+02   \n",
       "mean   1.110283e-08 -3.915207e-08  1.606988e-09    0.000000  2.804924e-08   \n",
       "std    1.004938e+00  1.004938e+00  1.004938e+00    1.004938  1.004938e+00   \n",
       "min   -4.883000e-01 -4.401863e-01 -1.685877e+00   -0.250000 -1.439907e+00   \n",
       "25%   -4.773815e-01 -4.401863e-01 -8.423963e-01   -0.250000 -9.194047e-01   \n",
       "50%   -4.608763e-01 -4.401863e-01 -1.715730e-01   -0.250000 -1.444343e-01   \n",
       "75%    1.201040e-01 -4.401863e-01  9.510749e-01   -0.250000  6.837432e-01   \n",
       "max    5.673641e+00  3.523945e+00  2.392130e+00    4.000000  2.992461e+00   \n",
       "\n",
       "                 RM           AGE           DIS           RAD           TAX  \\\n",
       "count  1.020000e+02  1.020000e+02  1.020000e+02  1.020000e+02  1.020000e+02   \n",
       "mean   5.697503e-09 -1.402462e-08 -6.720132e-09 -5.843593e-08  1.373244e-08   \n",
       "std    1.004938e+00  1.004938e+00  1.004938e+00  1.004938e+00  1.004938e+00   \n",
       "min   -3.935782e+00 -2.172189e+00 -1.286366e+00 -1.021593e+00 -1.341478e+00   \n",
       "25%   -4.399024e-01 -8.643128e-01 -7.391787e-01 -6.925324e-01 -8.105884e-01   \n",
       "50%    1.463370e-02  2.105111e-01 -1.946900e-01 -5.828456e-01 -4.524150e-01   \n",
       "75%    4.820380e-01  9.244516e-01  5.107163e-01  1.501204e+00  1.365351e+00   \n",
       "max    2.835712e+00  1.090545e+00  3.482165e+00  1.501204e+00  1.620178e+00   \n",
       "\n",
       "            PTRATIO             B         LSTAT  \n",
       "count  1.020000e+02  1.020000e+02  1.020000e+02  \n",
       "mean  -2.045257e-08  4.499566e-08 -1.168719e-09  \n",
       "std    1.004938e+00  1.004938e+00  1.004938e+00  \n",
       "min   -3.348173e+00 -3.897728e+00 -1.463204e+00  \n",
       "25%   -3.343252e-01  1.860242e-01 -7.963289e-01  \n",
       "50%    1.121714e-01  3.765528e-01 -1.516487e-01  \n",
       "75%    6.702914e-01  4.286058e-01  6.366020e-01  \n",
       "max    1.674907e+00  4.286058e-01  3.266994e+00  "
      ]
     },
     "execution_count": 22,
     "metadata": {},
     "output_type": "execute_result"
    }
   ],
   "source": [
    "X_test_scaled = pd.DataFrame(scaler.fit_transform(X_test), columns=X_test.columns)\n",
    "X_test_scaled.describe()"
   ]
  },
  {
   "cell_type": "markdown",
   "id": "ae3c5e25",
   "metadata": {},
   "source": [
    "#### Построение модели `TSNE`"
   ]
  },
  {
   "cell_type": "code",
   "execution_count": 23,
   "id": "9f543a84",
   "metadata": {},
   "outputs": [],
   "source": [
    "from sklearn.manifold import TSNE\n",
    "\n",
    "tsne = TSNE(n_components=2, learning_rate=250, random_state=42)"
   ]
  },
  {
   "cell_type": "markdown",
   "id": "baa32a2e",
   "metadata": {},
   "source": [
    "Алгоритм _t-SNE_ (_t-distributed Stochastic Neighbor Embedding_ или _Стохастическое вложение соседей с t-распределением_) позволяет понижать размерность данных до двух или трёх измерений, что позволяет визуализировать данные на двумерных и трёхмерных графиках. Изучая графики, можно, например, понять, на сколько кластеров адекватно разбивать данные, а также оценить уже выполненное разбиение на кластеры."
   ]
  },
  {
   "cell_type": "code",
   "execution_count": 24,
   "id": "fc26c419",
   "metadata": {},
   "outputs": [
    {
     "name": "stdout",
     "output_type": "stream",
     "text": [
      "До:\t(404, 13)\n",
      "После:\t(404, 2)\n"
     ]
    }
   ],
   "source": [
    "X_train_tsne = tsne.fit_transform(X_train_scaled)\n",
    "\n",
    "print('До:\\t{}'.format(X_train_scaled.shape))\n",
    "print('После:\\t{}'.format(X_train_tsne.shape))"
   ]
  },
  {
   "cell_type": "markdown",
   "id": "dc82c6aa",
   "metadata": {},
   "source": [
    "Получили новые данные с уменьшенной размерностью. Число признаков уменьшилось с 13 до 2.\n",
    "\n",
    "#### Построение диаграммы рассеяния"
   ]
  },
  {
   "cell_type": "code",
   "execution_count": 25,
   "id": "f3beef4c",
   "metadata": {},
   "outputs": [
    {
     "data": {
      "image/png": "[encoded data removed]",
      "text/plain": [
       "<Figure size 432x288 with 1 Axes>"
      ]
     },
     "metadata": {
      "needs_background": "light"
     },
     "output_type": "display_data"
    }
   ],
   "source": [
    "plt.scatter(X_train_tsne[:, 0], X_train_tsne[:, 1])\n",
    "\n",
    "plt.show()"
   ]
  },
  {
   "cell_type": "markdown",
   "id": "d5b7f040",
   "metadata": {},
   "source": [
    "На диаграмме явно выделяется два кластера."
   ]
  },
  {
   "cell_type": "markdown",
   "id": "ce23de8b",
   "metadata": {},
   "source": [
    "[Вернуться назад](#start)\n",
    "\n",
    "### Задание № 2<a class='anckor' id='task2'>\n",
    "   - С помощью KMeans разбейте данные из тренировочного набора на 3 кластера, используйте все признаки из датафрейма X_train. (Параметр max_iter должен быть равен 100, random_state сделайте равным 42.)\n",
    "   - Постройте еще раз диаграмму рассеяния на данных, полученных с помощью TSNE, и раскрасьте точки из разных кластеров разными цветами.\n",
    "   - Вычислите средние значения price и CRIM в разных кластерах."
   ]
  },
  {
   "cell_type": "code",
   "execution_count": 26,
   "id": "9bfc36be",
   "metadata": {},
   "outputs": [
    {
     "data": {
      "text/plain": [
       "array([1, 0, 2, 1, 0, 0, 0, 2, 1, 1], dtype=int32)"
      ]
     },
     "execution_count": 26,
     "metadata": {},
     "output_type": "execute_result"
    }
   ],
   "source": [
    "from sklearn.cluster import KMeans\n",
    "\n",
    "kmeans = KMeans(n_clusters=3, max_iter=100, random_state=42)\n",
    "\n",
    "labels_train = kmeans.fit_predict(X_train_scaled)\n",
    "labels_train[:10]"
   ]
  },
  {
   "cell_type": "markdown",
   "id": "e38e35ab",
   "metadata": {},
   "source": [
    "#### Построение диаграммы рассеяния"
   ]
  },
  {
   "cell_type": "code",
   "execution_count": 27,
   "id": "d774db9d",
   "metadata": {},
   "outputs": [
    {
     "data": {
      "image/png": "[encoded data removed]",
      "text/plain": [
       "<Figure size 432x288 with 1 Axes>"
      ]
     },
     "metadata": {
      "needs_background": "light"
     },
     "output_type": "display_data"
    }
   ],
   "source": [
    "plt.scatter(X_train_tsne[:, 0], X_train_tsne[:, 1], c=labels_train)\n",
    "\n",
    "plt.show()"
   ]
  },
  {
   "cell_type": "markdown",
   "id": "adc17889",
   "metadata": {},
   "source": [
    "#### Вычисление mean() для `Price` и `CRIM` в разных кластерах"
   ]
  },
  {
   "cell_type": "code",
   "execution_count": 28,
   "id": "d6e05d35",
   "metadata": {},
   "outputs": [
    {
     "data": {
      "text/plain": [
       "(Price    22.796539\n",
       " dtype: float32,\n",
       " Price    24.971207\n",
       " dtype: float32,\n",
       " Price    16.179688\n",
       " dtype: float32,\n",
       " Price    27.874115\n",
       " dtype: float32)"
      ]
     },
     "execution_count": 28,
     "metadata": {},
     "output_type": "execute_result"
    }
   ],
   "source": [
    "y_train.mean(), y_train[labels_train == 0].mean(), y_train[labels_train==1].mean(), y_train[labels_train==2].mean()"
   ]
  },
  {
   "cell_type": "markdown",
   "id": "056afff4",
   "metadata": {},
   "source": [
    "Видно, что в 'Кластер 1' попала менее дорогая недвижимость, в 'Кластер 0' - недвижимость со средней ценой, а в 'Кластер 2' - более дорогая недвижимость.\n",
    "\n",
    "####  Построение гистограмм распределения цены по кластерам"
   ]
  },
  {
   "cell_type": "code",
   "execution_count": 29,
   "id": "1197b0fd",
   "metadata": {},
   "outputs": [
    {
     "data": {
      "image/png": "[encoded data removed]",
      "text/plain": [
       "<Figure size 432x288 with 1 Axes>"
      ]
     },
     "metadata": {
      "needs_background": "light"
     },
     "output_type": "display_data"
    }
   ],
   "source": [
    "plt.hist(y_train[labels_train == 0], bins=20, density=True, alpha=0.5)\n",
    "plt.hist(y_train[labels_train == 1], bins=20, density=True, alpha=0.5)\n",
    "plt.hist(y_train[labels_train == 2], bins=20, density=True, alpha=0.5)\n",
    "\n",
    "plt.legend(['Кластер 0', 'Кластер 1', 'Кластер 2'])\n",
    "plt.xlabel('Цена')\n",
    "plt.title('Гистограммы распределения цены по кластерам')\n",
    "\n",
    "plt.show()"
   ]
  },
  {
   "cell_type": "markdown",
   "id": "105eb9aa",
   "metadata": {},
   "source": [
    "Гистограмма также отражает замеченную закономерность. \n",
    "\n",
    "Посмотрим теперь на распределение признака **`CRIM`** внутри кластеров. Он отражает криминальность места, в котором расположена недвижимость (количество преступлений на душу населения)."
   ]
  },
  {
   "cell_type": "code",
   "execution_count": 30,
   "id": "ff9db743",
   "metadata": {},
   "outputs": [
    {
     "name": "stdout",
     "output_type": "stream",
     "text": [
      "Кластер 0: 0.4209856688976288\n",
      "Кластер 1: 10.715219497680664\n",
      "Кластер 2: 0.07211847603321075\n"
     ]
    }
   ],
   "source": [
    "print('Кластер 0: {}'.format(X_train.loc[labels_train == 0, 'CRIM'].mean()))\n",
    "print('Кластер 1: {}'.format(X_train.loc[labels_train == 1, 'CRIM'].mean()))\n",
    "print('Кластер 2: {}'.format(X_train.loc[labels_train == 2, 'CRIM'].mean()))"
   ]
  },
  {
   "cell_type": "markdown",
   "id": "d140423b",
   "metadata": {},
   "source": [
    "Видно, что данное значение сильно выше для 1-кластера, что сильно повлияло на цену недвижимости, которая в этом кластере менее дорогая. Рассмотрим гистограммы распределений значений этого признака по кластерам."
   ]
  },
  {
   "cell_type": "code",
   "execution_count": 31,
   "id": "0d887a1e",
   "metadata": {},
   "outputs": [
    {
     "data": {
      "image/png": "[encoded data removed]",
      "text/plain": [
       "<Figure size 432x288 with 1 Axes>"
      ]
     },
     "metadata": {
      "needs_background": "light"
     },
     "output_type": "display_data"
    }
   ],
   "source": [
    "plt.hist(X_train.loc[labels_train == 0, 'CRIM'], bins=20, density=True, alpha=0.5, log=True)\n",
    "plt.hist(X_train.loc[labels_train == 1, 'CRIM'], bins=20, density=True, alpha=0.5, log=True)\n",
    "plt.hist(X_train.loc[labels_train == 2, 'CRIM'], bins=20, density=True, alpha=0.5, log=True)\n",
    "\n",
    "plt.xlim(0, 12)\n",
    "plt.legend(['Кластер 0', 'Кластер 1', 'Кластер 2'])\n",
    "plt.xlabel('CRIM')\n",
    "\n",
    "plt.show()"
   ]
  },
  {
   "cell_type": "markdown",
   "id": "54bead9b",
   "metadata": {},
   "source": [
    "В кластерах 0 и 2 максимальная плотность этого признака расположена возле 0. Для кластера 1 значения этого признака размещенны по всей шкале."
   ]
  },
  {
   "cell_type": "markdown",
   "id": "30dc4f11",
   "metadata": {},
   "source": [
    "[Вернуться назад](#start)\n",
    "\n",
    "### Задание № 3<a class='anckor' id='task3'>\n",
    "   - Примените модель KMeans, построенную в предыдущем задании, к данным из тестового набора.\n",
    "   - Вычислите средние значения price и CRIM в разных кластерах на тестовых данных."
   ]
  },
  {
   "cell_type": "code",
   "execution_count": 32,
   "id": "1347235c",
   "metadata": {},
   "outputs": [
    {
     "data": {
      "text/plain": [
       "array([0, 2, 1, 2, 1, 0, 0, 1, 1, 0], dtype=int32)"
      ]
     },
     "execution_count": 32,
     "metadata": {},
     "output_type": "execute_result"
    }
   ],
   "source": [
    "labels_test = kmeans.predict(X_test_scaled)\n",
    "labels_test[:10]"
   ]
  },
  {
   "cell_type": "code",
   "execution_count": 33,
   "id": "8e4e7580",
   "metadata": {},
   "outputs": [
    {
     "data": {
      "text/plain": [
       "(Price    21.488234\n",
       " dtype: float32,\n",
       " Price    21.926088\n",
       " dtype: float32,\n",
       " Price    16.437143\n",
       " dtype: float32,\n",
       " Price    28.94762\n",
       " dtype: float32)"
      ]
     },
     "execution_count": 33,
     "metadata": {},
     "output_type": "execute_result"
    }
   ],
   "source": [
    "y_test.mean(), y_test[labels_test == 0].mean(), y_test[labels_test==1].mean(), y_test[labels_test==2].mean()"
   ]
  },
  {
   "cell_type": "markdown",
   "id": "594aef61",
   "metadata": {},
   "source": [
    "Видно, что для тестового набора данных распределение стоимости недвижимости аналогична как и для тренировочного набора. В 'Кластер 1' попала менее дорогая недвижимость, в 'Кластер 0' - недвижимость со средней ценой, а в 'Кластер 2' - более дорогая недвижимость.\n",
    "\n",
    "####  Построение гистограмм распределения цены по кластерам"
   ]
  },
  {
   "cell_type": "code",
   "execution_count": 34,
   "id": "08953c2a",
   "metadata": {},
   "outputs": [
    {
     "data": {
      "image/png": "[encoded data removed]",
      "text/plain": [
       "<Figure size 432x288 with 1 Axes>"
      ]
     },
     "metadata": {
      "needs_background": "light"
     },
     "output_type": "display_data"
    }
   ],
   "source": [
    "plt.hist(y_test[labels_test == 0], bins=20, density=True, alpha=0.5)\n",
    "plt.hist(y_test[labels_test == 1], bins=20, density=True, alpha=0.5)\n",
    "plt.hist(y_test[labels_test == 2], bins=20, density=True, alpha=0.5)\n",
    "\n",
    "plt.legend(['Кластер 0', 'Кластер 1', 'Кластер 2'])\n",
    "plt.xlabel('Цена')\n",
    "plt.title('Гистограммы распределения цены по кластерам')\n",
    "\n",
    "plt.show()"
   ]
  },
  {
   "cell_type": "markdown",
   "id": "02a7a8b7",
   "metadata": {},
   "source": [
    "Гистограмма также отражает замеченную закономерность. \n",
    "\n",
    "Посмотрим теперь на распределение признака **`CRIM`** внутри кластеров на тестовых данных."
   ]
  },
  {
   "cell_type": "code",
   "execution_count": 35,
   "id": "a09132dd",
   "metadata": {},
   "outputs": [
    {
     "name": "stdout",
     "output_type": "stream",
     "text": [
      "Кластер 0: 0.27973610162734985\n",
      "Кластер 1: 10.165532112121582\n",
      "Кластер 2: 0.08071999996900558\n"
     ]
    }
   ],
   "source": [
    "print('Кластер 0: {}'.format(X_test.loc[labels_test == 0, 'CRIM'].mean()))\n",
    "print('Кластер 1: {}'.format(X_test.loc[labels_test == 1, 'CRIM'].mean()))\n",
    "print('Кластер 2: {}'.format(X_test.loc[labels_test == 2, 'CRIM'].mean()))"
   ]
  },
  {
   "cell_type": "markdown",
   "id": "3b25ad04",
   "metadata": {},
   "source": [
    "На тестовом наборе данных распределение признака CRIM аналогично тренировочным данным."
   ]
  },
  {
   "cell_type": "code",
   "execution_count": 36,
   "id": "528b123f",
   "metadata": {},
   "outputs": [
    {
     "data": {
      "image/png": "[encoded data removed]",
      "text/plain": [
       "<Figure size 432x288 with 1 Axes>"
      ]
     },
     "metadata": {
      "needs_background": "light"
     },
     "output_type": "display_data"
    }
   ],
   "source": [
    "plt.hist(X_test.loc[labels_test == 0, 'CRIM'], bins=20, density=True, alpha=0.5, log=True)\n",
    "plt.hist(X_test.loc[labels_test == 1, 'CRIM'], bins=20, density=True, alpha=0.5, log=True)\n",
    "plt.hist(X_test.loc[labels_test == 2, 'CRIM'], bins=20, density=True, alpha=0.5, log=True)\n",
    "\n",
    "plt.xlim(0, 12)\n",
    "plt.legend(['Кластер 0', 'Кластер 1', 'Кластер 2'])\n",
    "plt.xlabel('CRIM')\n",
    "\n",
    "plt.show()"
   ]
  }
 ],
 "metadata": {
  "kernelspec": {
   "display_name": "Python 3 (ipykernel)",
   "language": "python",
   "name": "python3"
  },
  "language_info": {
   "codemirror_mode": {
    "name": "ipython",
    "version": 3
   },
   "file_extension": ".py",
   "mimetype": "text/x-python",
   "name": "python",
   "nbconvert_exporter": "python",
   "pygments_lexer": "ipython3",
   "version": "3.9.7"
  }
 },
 "nbformat": 4,
 "nbformat_minor": 5
}
